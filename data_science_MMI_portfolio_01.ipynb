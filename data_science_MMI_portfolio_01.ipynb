{
 "cells": [
  {
   "cell_type": "markdown",
   "id": "19ae5264",
   "metadata": {},
   "source": [
    "### 💾💻📊 Data Science - MMI Portfolio No. 1 \n",
    "# 💥 Superhero analysis 💥\n",
    "\n",
    "## Main goal: Use the provided datasets to answer the following questions\n",
    "1. How is the male-to-female ratio of superheros (marvel + DC) and how does it change over time?\n",
    "2. How does this compare between Marvel and DC superheros?\n",
    "3. How does the look (hair color, eyes ...) change over time?\n",
    "4. Is there a typical look of a bad superhero and of a good superhero?\n",
    "\n",
    "## General instructions\n",
    "- The final notebook should be executable in the correct order (this means it should work if you do `Kernel` --> `Restart kernel and run all cells...`)\n",
    "- Just providing code and plots is not enough, you should document and comment where necessary. Not so much on small code-related things (you may still do this if you want though, but this is not required), but mostly to explain what you do, why you do it, what you observe.\n",
    "\n",
    "More specifically:\n",
    "- Please briefly comment on the changes you do to the data, in particular, if you apply complex operations or if your changes depend on a certain choice you have to make.\n",
    "- Please add descriptions and/or interpretations to the results you generate (for instance tables, plots). This doesn't have to be a lot of text. For simple, easy-to-understand results, a brief sentence can be enough. For more complex results, you might want to add a bit more explanation."
   ]
  },
  {
   "cell_type": "markdown",
   "id": "4ffc3378-dd52-4e76-ad0a-803e841d72bc",
   "metadata": {},
   "source": [
    "---\n",
    "Please add your Name here\n",
    "## Name: Sander Tebeck\n",
    "\n",
    "---"
   ]
  },
  {
   "cell_type": "markdown",
   "id": "60d8e7eb-0254-48fd-a2ec-c42e82ddf285",
   "metadata": {},
   "source": [
    "## Imports and helper function\n",
    "Use this part to import the main libraries used in this notebook.  \n",
    "Also add more complex helper functions to this part (if you use any)."
   ]
  },
  {
   "cell_type": "code",
   "execution_count": 1,
   "id": "494f1abc",
   "metadata": {},
   "outputs": [],
   "source": [
    "import os\n",
    "\n",
    "import numpy as np\n",
    "import pandas as pd\n",
    "from matplotlib import pyplot as plt\n",
    "\n",
    "import seaborn as sns\n",
    "\n",
    "# add imports if anything is missing\n",
    "# feel free, for instance, to use other plotting libraries (e.g. seaborn, plotly...)"
   ]
  },
  {
   "cell_type": "markdown",
   "id": "62da7810-b04b-475d-9775-26d282621a04",
   "metadata": {},
   "source": [
    "## Data import\n",
    "Simple: Use this part to import your data.\n",
    "For the present case you can simply use Pandas `.read_json()`."
   ]
  },
  {
   "cell_type": "code",
   "execution_count": 22,
   "id": "d832ecac",
   "metadata": {},
   "outputs": [],
   "source": [
    "path_root = \"E:\\Dokumente\\MMI\\Datascience\\DataScience\\superhero_data_portfolio_1\" \n",
    "\n",
    "file_marvel = \"superhero_data_marvel_mmi2024.json\"\n",
    "file_dc = \"superhero_data_dc_mmi2024.json\""
   ]
  },
  {
   "cell_type": "code",
   "execution_count": 25,
   "id": "e5fd7ccf",
   "metadata": {},
   "outputs": [],
   "source": [
    "df_marvel = pd.read_json(os.path.join(path_root, file_marvel))\n",
    "df_dc = pd.read_json(os.path.join(path_root, file_dc))"
   ]
  },
  {
   "cell_type": "markdown",
   "id": "8cb81fba-4767-4f6e-b22d-1b19bbf7d96a",
   "metadata": {},
   "source": [
    "## First Exploration & Data Cleaning\n",
    "Use this part to have a first look at the data.  \n",
    "Apply the necessary operations to clean and harmonize the data, such as handling missing values, conversions etc."
   ]
  },
  {
   "cell_type": "code",
   "execution_count": 26,
   "id": "3589c977",
   "metadata": {},
   "outputs": [
    {
     "data": {
      "text/html": [
       "<div>\n",
       "<style scoped>\n",
       "    .dataframe tbody tr th:only-of-type {\n",
       "        vertical-align: middle;\n",
       "    }\n",
       "\n",
       "    .dataframe tbody tr th {\n",
       "        vertical-align: top;\n",
       "    }\n",
       "\n",
       "    .dataframe thead th {\n",
       "        text-align: right;\n",
       "    }\n",
       "</style>\n",
       "<table border=\"1\" class=\"dataframe\">\n",
       "  <thead>\n",
       "    <tr style=\"text-align: right;\">\n",
       "      <th></th>\n",
       "      <th>align</th>\n",
       "      <th>alive</th>\n",
       "      <th>appearances</th>\n",
       "      <th>eye</th>\n",
       "      <th>first appearance</th>\n",
       "      <th>gsm</th>\n",
       "      <th>hair</th>\n",
       "      <th>id</th>\n",
       "      <th>name</th>\n",
       "      <th>page_id</th>\n",
       "      <th>sex</th>\n",
       "      <th>urlslug</th>\n",
       "    </tr>\n",
       "  </thead>\n",
       "  <tbody>\n",
       "    <tr>\n",
       "      <th>0</th>\n",
       "      <td>good characters</td>\n",
       "      <td>living characters</td>\n",
       "      <td>4043.0</td>\n",
       "      <td>hazel eyes</td>\n",
       "      <td>aug-62</td>\n",
       "      <td>None</td>\n",
       "      <td>brown hair</td>\n",
       "      <td>secret identity</td>\n",
       "      <td>spider-man (peter parker)</td>\n",
       "      <td>1678</td>\n",
       "      <td>male characters</td>\n",
       "      <td>\\/spider-man_(peter_parker)</td>\n",
       "    </tr>\n",
       "    <tr>\n",
       "      <th>1</th>\n",
       "      <td>good characters</td>\n",
       "      <td>living characters</td>\n",
       "      <td>3360.0</td>\n",
       "      <td>blue eyes</td>\n",
       "      <td>mar-41</td>\n",
       "      <td>None</td>\n",
       "      <td>white hair</td>\n",
       "      <td>public identity</td>\n",
       "      <td>captain america (steven rogers)</td>\n",
       "      <td>7139</td>\n",
       "      <td>male characters</td>\n",
       "      <td>\\/captain_america_(steven_rogers)</td>\n",
       "    </tr>\n",
       "    <tr>\n",
       "      <th>2</th>\n",
       "      <td>neutral characters</td>\n",
       "      <td>living characters</td>\n",
       "      <td>3061.0</td>\n",
       "      <td>blue eyes</td>\n",
       "      <td>oct-74</td>\n",
       "      <td>None</td>\n",
       "      <td>black hair</td>\n",
       "      <td>public identity</td>\n",
       "      <td>wolverine (james \\\"logan\\\" howlett)</td>\n",
       "      <td>64786</td>\n",
       "      <td>male characters</td>\n",
       "      <td>\\/wolverine_(james_%22logan%22_howlett)</td>\n",
       "    </tr>\n",
       "    <tr>\n",
       "      <th>3</th>\n",
       "      <td>good characters</td>\n",
       "      <td>living characters</td>\n",
       "      <td>2961.0</td>\n",
       "      <td>blue eyes</td>\n",
       "      <td>mar-63</td>\n",
       "      <td>None</td>\n",
       "      <td>black hair</td>\n",
       "      <td>public identity</td>\n",
       "      <td>iron man (anthony \\\"tony\\\" stark)</td>\n",
       "      <td>1868</td>\n",
       "      <td>male characters</td>\n",
       "      <td>\\/iron_man_(anthony_%22tony%22_stark)</td>\n",
       "    </tr>\n",
       "    <tr>\n",
       "      <th>4</th>\n",
       "      <td>good characters</td>\n",
       "      <td>living characters</td>\n",
       "      <td>2258.0</td>\n",
       "      <td>blue eyes</td>\n",
       "      <td>nov-50</td>\n",
       "      <td>None</td>\n",
       "      <td>blond hair</td>\n",
       "      <td>no dual identity</td>\n",
       "      <td>thor (thor odinson)</td>\n",
       "      <td>2460</td>\n",
       "      <td>male characters</td>\n",
       "      <td>\\/thor_(thor_odinson)</td>\n",
       "    </tr>\n",
       "  </tbody>\n",
       "</table>\n",
       "</div>"
      ],
      "text/plain": [
       "                align              alive  appearances         eye  \\\n",
       "0     good characters  living characters       4043.0  hazel eyes   \n",
       "1     good characters  living characters       3360.0   blue eyes   \n",
       "2  neutral characters  living characters       3061.0   blue eyes   \n",
       "3     good characters  living characters       2961.0   blue eyes   \n",
       "4     good characters  living characters       2258.0   blue eyes   \n",
       "\n",
       "  first appearance   gsm        hair                id  \\\n",
       "0           aug-62  None  brown hair   secret identity   \n",
       "1           mar-41  None  white hair   public identity   \n",
       "2           oct-74  None  black hair   public identity   \n",
       "3           mar-63  None  black hair   public identity   \n",
       "4           nov-50  None  blond hair  no dual identity   \n",
       "\n",
       "                                  name  page_id              sex  \\\n",
       "0            spider-man (peter parker)     1678  male characters   \n",
       "1      captain america (steven rogers)     7139  male characters   \n",
       "2  wolverine (james \\\"logan\\\" howlett)    64786  male characters   \n",
       "3    iron man (anthony \\\"tony\\\" stark)     1868  male characters   \n",
       "4                  thor (thor odinson)     2460  male characters   \n",
       "\n",
       "                                   urlslug  \n",
       "0              \\/spider-man_(peter_parker)  \n",
       "1        \\/captain_america_(steven_rogers)  \n",
       "2  \\/wolverine_(james_%22logan%22_howlett)  \n",
       "3    \\/iron_man_(anthony_%22tony%22_stark)  \n",
       "4                    \\/thor_(thor_odinson)  "
      ]
     },
     "execution_count": 26,
     "metadata": {},
     "output_type": "execute_result"
    }
   ],
   "source": [
    "df_marvel.head()"
   ]
  },
  {
   "cell_type": "code",
   "execution_count": 27,
   "id": "457c67c1",
   "metadata": {},
   "outputs": [
    {
     "data": {
      "text/html": [
       "<div>\n",
       "<style scoped>\n",
       "    .dataframe tbody tr th:only-of-type {\n",
       "        vertical-align: middle;\n",
       "    }\n",
       "\n",
       "    .dataframe tbody tr th {\n",
       "        vertical-align: top;\n",
       "    }\n",
       "\n",
       "    .dataframe thead th {\n",
       "        text-align: right;\n",
       "    }\n",
       "</style>\n",
       "<table border=\"1\" class=\"dataframe\">\n",
       "  <thead>\n",
       "    <tr style=\"text-align: right;\">\n",
       "      <th></th>\n",
       "      <th>align</th>\n",
       "      <th>alive</th>\n",
       "      <th>appearances</th>\n",
       "      <th>eye</th>\n",
       "      <th>first appearance</th>\n",
       "      <th>gsm</th>\n",
       "      <th>hair</th>\n",
       "      <th>id</th>\n",
       "      <th>name</th>\n",
       "      <th>page_id</th>\n",
       "      <th>sex</th>\n",
       "      <th>urlslug</th>\n",
       "    </tr>\n",
       "  </thead>\n",
       "  <tbody>\n",
       "    <tr>\n",
       "      <th>0</th>\n",
       "      <td>good characters</td>\n",
       "      <td>living characters</td>\n",
       "      <td>3093.0</td>\n",
       "      <td>blue eyes</td>\n",
       "      <td>1939, may</td>\n",
       "      <td>None</td>\n",
       "      <td>black hair</td>\n",
       "      <td>secret identity</td>\n",
       "      <td>batman (bruce wayne)</td>\n",
       "      <td>1422</td>\n",
       "      <td>male characters</td>\n",
       "      <td>\\/wiki\\/batman_(bruce_wayne)</td>\n",
       "    </tr>\n",
       "    <tr>\n",
       "      <th>1</th>\n",
       "      <td>good characters</td>\n",
       "      <td>living characters</td>\n",
       "      <td>2496.0</td>\n",
       "      <td>blue eyes</td>\n",
       "      <td>1986, october</td>\n",
       "      <td>None</td>\n",
       "      <td>black hair</td>\n",
       "      <td>secret identity</td>\n",
       "      <td>superman (clark kent)</td>\n",
       "      <td>23387</td>\n",
       "      <td>male characters</td>\n",
       "      <td>\\/wiki\\/superman_(clark_kent)</td>\n",
       "    </tr>\n",
       "    <tr>\n",
       "      <th>2</th>\n",
       "      <td>good characters</td>\n",
       "      <td>living characters</td>\n",
       "      <td>1565.0</td>\n",
       "      <td>brown eyes</td>\n",
       "      <td>1959, october</td>\n",
       "      <td>None</td>\n",
       "      <td>brown hair</td>\n",
       "      <td>secret identity</td>\n",
       "      <td>green lantern (hal jordan)</td>\n",
       "      <td>1458</td>\n",
       "      <td>male characters</td>\n",
       "      <td>\\/wiki\\/green_lantern_(hal_jordan)</td>\n",
       "    </tr>\n",
       "    <tr>\n",
       "      <th>3</th>\n",
       "      <td>good characters</td>\n",
       "      <td>living characters</td>\n",
       "      <td>1316.0</td>\n",
       "      <td>brown eyes</td>\n",
       "      <td>1987, february</td>\n",
       "      <td>None</td>\n",
       "      <td>white hair</td>\n",
       "      <td>public identity</td>\n",
       "      <td>james gordon (new earth)</td>\n",
       "      <td>1659</td>\n",
       "      <td>male characters</td>\n",
       "      <td>\\/wiki\\/james_gordon_(new_earth)</td>\n",
       "    </tr>\n",
       "    <tr>\n",
       "      <th>4</th>\n",
       "      <td>good characters</td>\n",
       "      <td>living characters</td>\n",
       "      <td>1237.0</td>\n",
       "      <td>blue eyes</td>\n",
       "      <td>1940, april</td>\n",
       "      <td>None</td>\n",
       "      <td>black hair</td>\n",
       "      <td>secret identity</td>\n",
       "      <td>richard grayson (new earth)</td>\n",
       "      <td>1576</td>\n",
       "      <td>male characters</td>\n",
       "      <td>\\/wiki\\/richard_grayson_(new_earth)</td>\n",
       "    </tr>\n",
       "  </tbody>\n",
       "</table>\n",
       "</div>"
      ],
      "text/plain": [
       "             align              alive  appearances         eye  \\\n",
       "0  good characters  living characters       3093.0   blue eyes   \n",
       "1  good characters  living characters       2496.0   blue eyes   \n",
       "2  good characters  living characters       1565.0  brown eyes   \n",
       "3  good characters  living characters       1316.0  brown eyes   \n",
       "4  good characters  living characters       1237.0   blue eyes   \n",
       "\n",
       "  first appearance   gsm        hair               id  \\\n",
       "0        1939, may  None  black hair  secret identity   \n",
       "1    1986, october  None  black hair  secret identity   \n",
       "2    1959, october  None  brown hair  secret identity   \n",
       "3   1987, february  None  white hair  public identity   \n",
       "4      1940, april  None  black hair  secret identity   \n",
       "\n",
       "                          name  page_id              sex  \\\n",
       "0         batman (bruce wayne)     1422  male characters   \n",
       "1        superman (clark kent)    23387  male characters   \n",
       "2   green lantern (hal jordan)     1458  male characters   \n",
       "3     james gordon (new earth)     1659  male characters   \n",
       "4  richard grayson (new earth)     1576  male characters   \n",
       "\n",
       "                               urlslug  \n",
       "0         \\/wiki\\/batman_(bruce_wayne)  \n",
       "1        \\/wiki\\/superman_(clark_kent)  \n",
       "2   \\/wiki\\/green_lantern_(hal_jordan)  \n",
       "3     \\/wiki\\/james_gordon_(new_earth)  \n",
       "4  \\/wiki\\/richard_grayson_(new_earth)  "
      ]
     },
     "execution_count": 27,
     "metadata": {},
     "output_type": "execute_result"
    }
   ],
   "source": [
    "df_dc.head()"
   ]
  },
  {
   "cell_type": "markdown",
   "id": "a78ed94c",
   "metadata": {},
   "source": [
    "\n",
    "### Exercise 1: First overview\n",
    "Here, you don't have to perform any changes. Just briefly comment on the following:\n",
    "- What are missing values here and are they a problem for the task?\n",
    "- Are there features in the datasets that require changes to be useful for a later analysis?"
   ]
  },
  {
   "cell_type": "markdown",
   "id": "37c8ff6a",
   "metadata": {},
   "source": [
    "#### What are missing values here and are they a problem for the task?"
   ]
  },
  {
   "cell_type": "markdown",
   "id": "c9fa6767",
   "metadata": {},
   "source": [
    "##### Analyse:"
   ]
  },
  {
   "cell_type": "code",
   "execution_count": 33,
   "id": "de56e723-a2f1-4820-af5d-f31ac0eccfd3",
   "metadata": {},
   "outputs": [
    {
     "name": "stdout",
     "output_type": "stream",
     "text": [
      "<class 'pandas.core.frame.DataFrame'>\n",
      "Index: 16376 entries, 0 to 16375\n",
      "Data columns (total 12 columns):\n",
      " #   Column            Non-Null Count  Dtype  \n",
      "---  ------            --------------  -----  \n",
      " 0   align             13564 non-null  object \n",
      " 1   alive             16373 non-null  object \n",
      " 2   appearances       15280 non-null  float64\n",
      " 3   eye               6609 non-null   object \n",
      " 4   first appearance  15561 non-null  object \n",
      " 5   gsm               90 non-null     object \n",
      " 6   hair              12112 non-null  object \n",
      " 7   id                12606 non-null  object \n",
      " 8   name              16376 non-null  object \n",
      " 9   page_id           16376 non-null  int64  \n",
      " 10  sex               15522 non-null  object \n",
      " 11  urlslug           16376 non-null  object \n",
      "dtypes: float64(1), int64(1), object(10)\n",
      "memory usage: 1.6+ MB\n"
     ]
    }
   ],
   "source": [
    "df_marvel.info()"
   ]
  },
  {
   "cell_type": "code",
   "execution_count": 65,
   "id": "3c3f8b39",
   "metadata": {},
   "outputs": [
    {
     "name": "stdout",
     "output_type": "stream",
     "text": [
      "<class 'pandas.core.frame.DataFrame'>\n",
      "Index: 6896 entries, 0 to 6895\n",
      "Data columns (total 12 columns):\n",
      " #   Column            Non-Null Count  Dtype  \n",
      "---  ------            --------------  -----  \n",
      " 0   align             6295 non-null   object \n",
      " 1   alive             6893 non-null   object \n",
      " 2   appearances       6541 non-null   float64\n",
      " 3   eye               3268 non-null   object \n",
      " 4   first appearance  6827 non-null   object \n",
      " 5   gsm               64 non-null     object \n",
      " 6   hair              4622 non-null   object \n",
      " 7   id                4883 non-null   object \n",
      " 8   name              6896 non-null   object \n",
      " 9   page_id           6896 non-null   int64  \n",
      " 10  sex               6771 non-null   object \n",
      " 11  urlslug           6896 non-null   object \n",
      "dtypes: float64(1), int64(1), object(10)\n",
      "memory usage: 700.4+ KB\n"
     ]
    }
   ],
   "source": [
    "df_dc.info()"
   ]
  },
  {
   "cell_type": "code",
   "execution_count": 43,
   "id": "bfdacaa7",
   "metadata": {},
   "outputs": [
    {
     "data": {
      "text/plain": [
       "2.374709976798144"
      ]
     },
     "execution_count": 43,
     "metadata": {},
     "output_type": "execute_result"
    }
   ],
   "source": [
    "16376 /6896 "
   ]
  },
  {
   "cell_type": "code",
   "execution_count": 39,
   "id": "c2954432",
   "metadata": {},
   "outputs": [
    {
     "data": {
      "text/plain": [
       "align               0.828285\n",
       "alive               0.999817\n",
       "appearances         0.933073\n",
       "eye                 0.403578\n",
       "first appearance    0.950232\n",
       "gsm                 0.005496\n",
       "hair                0.739619\n",
       "id                  0.769785\n",
       "name                1.000000\n",
       "page_id             1.000000\n",
       "sex                 0.947851\n",
       "urlslug             1.000000\n",
       "dtype: float64"
      ]
     },
     "execution_count": 39,
     "metadata": {},
     "output_type": "execute_result"
    }
   ],
   "source": [
    "df_marvel.notnull().sum(axis=0)/len(df_marvel)"
   ]
  },
  {
   "cell_type": "code",
   "execution_count": 41,
   "id": "3a056a4e",
   "metadata": {},
   "outputs": [
    {
     "data": {
      "text/plain": [
       "align               0.912848\n",
       "alive               0.999565\n",
       "appearances         0.948521\n",
       "eye                 0.473898\n",
       "first appearance    0.989994\n",
       "gsm                 0.009281\n",
       "hair                0.670244\n",
       "id                  0.708092\n",
       "name                1.000000\n",
       "page_id             1.000000\n",
       "sex                 0.981874\n",
       "urlslug             1.000000\n",
       "dtype: float64"
      ]
     },
     "execution_count": 41,
     "metadata": {},
     "output_type": "execute_result"
    }
   ],
   "source": [
    "df_dc.notnull().sum(axis=0)/len(df_dc)"
   ]
  },
  {
   "cell_type": "code",
   "execution_count": 42,
   "id": "c68f973a",
   "metadata": {},
   "outputs": [
    {
     "data": {
      "text/plain": [
       "align               0.084563\n",
       "alive              -0.000252\n",
       "appearances         0.015448\n",
       "eye                 0.070320\n",
       "first appearance    0.039762\n",
       "gsm                 0.003785\n",
       "hair               -0.069375\n",
       "id                 -0.061693\n",
       "name                0.000000\n",
       "page_id             0.000000\n",
       "sex                 0.034023\n",
       "urlslug             0.000000\n",
       "dtype: float64"
      ]
     },
     "execution_count": 42,
     "metadata": {},
     "output_type": "execute_result"
    }
   ],
   "source": [
    "df_dc.notnull().sum(axis=0)/len(df_dc) - df_marvel.notnull().sum(axis=0)/len(df_marvel)"
   ]
  },
  {
   "cell_type": "markdown",
   "id": "6cf4c306",
   "metadata": {},
   "source": [
    "Wie viele der Aussehensdaten sind zusammen in einem eintrag?:"
   ]
  },
  {
   "cell_type": "code",
   "execution_count": 55,
   "id": "67f3020d",
   "metadata": {},
   "outputs": [
    {
     "name": "stdout",
     "output_type": "stream",
     "text": [
      "DC: \n",
      "2530\n",
      "0.3668793503480278\n",
      "Marvel: \n",
      "5529\n",
      "0.337628236443576\n"
     ]
    }
   ],
   "source": [
    "print('DC: ')\n",
    "print(df_dc[['align', 'eye', 'hair']].notnull().all(axis=1).sum())\n",
    "print(df_dc[['align', 'eye', 'hair']].notnull().all(axis=1).sum()/len(df_dc))\n",
    "print('Marvel: ')\n",
    "print(df_marvel[['align', 'eye', 'hair']].notnull().all(axis=1).sum())\n",
    "print(df_marvel[['align', 'eye', 'hair']].notnull().all(axis=1).sum()/len(df_marvel))"
   ]
  },
  {
   "cell_type": "markdown",
   "id": "17fc504f",
   "metadata": {},
   "source": [
    "Da wir das aussehen im bezug zur Zeit betrachten wollen: "
   ]
  },
  {
   "cell_type": "code",
   "execution_count": 62,
   "id": "0c8a91d9",
   "metadata": {},
   "outputs": [
    {
     "name": "stdout",
     "output_type": "stream",
     "text": [
      "DC: \n",
      "2514\n",
      "0.3645591647331787\n",
      "Marvel: \n",
      "5069\n",
      "0.30953834880312653\n"
     ]
    }
   ],
   "source": [
    "print('DC: ')\n",
    "print(df_dc[['align', 'eye', 'hair', 'first appearance', 'sex']].notnull().all(axis=1).sum())\n",
    "print(df_dc[['align', 'eye', 'hair', 'first appearance', 'sex']].notnull().all(axis=1).sum()/len(df_dc))\n",
    "print('Marvel: ')\n",
    "print(df_marvel[['align', 'eye', 'hair', 'first appearance', 'sex']].notnull().all(axis=1).sum())\n",
    "print(df_marvel[['align', 'eye', 'hair', 'first appearance', 'sex']].notnull().all(axis=1).sum()/len(df_marvel))"
   ]
  },
  {
   "cell_type": "code",
   "execution_count": 63,
   "id": "b4743dd2",
   "metadata": {},
   "outputs": [
    {
     "name": "stdout",
     "output_type": "stream",
     "text": [
      "DC: \n",
      "6703\n",
      "0.9720127610208816\n",
      "Marvel: \n",
      "14766\n",
      "0.901685393258427\n"
     ]
    }
   ],
   "source": [
    "print('DC: ')\n",
    "print(df_dc[['first appearance', 'sex']].notnull().all(axis=1).sum())\n",
    "print(df_dc[['first appearance', 'sex']].notnull().all(axis=1).sum()/len(df_dc))\n",
    "print('Marvel: ')\n",
    "print(df_marvel[['first appearance', 'sex']].notnull().all(axis=1).sum())\n",
    "print(df_marvel[['first appearance', 'sex']].notnull().all(axis=1).sum()/len(df_marvel))"
   ]
  },
  {
   "cell_type": "code",
   "execution_count": 66,
   "id": "df7811d9",
   "metadata": {},
   "outputs": [
    {
     "data": {
      "text/plain": [
       "sex\n",
       "male characters           11638\n",
       "female characters          3837\n",
       "agender characters           45\n",
       "genderfluid characters        2\n",
       "Name: count, dtype: int64"
      ]
     },
     "execution_count": 66,
     "metadata": {},
     "output_type": "execute_result"
    }
   ],
   "source": [
    "df_marvel['sex'].value_counts()"
   ]
  },
  {
   "cell_type": "markdown",
   "id": "d16425f3",
   "metadata": {},
   "source": [
    "##### Antwort:"
   ]
  },
  {
   "cell_type": "markdown",
   "id": "345b8718",
   "metadata": {},
   "source": [
    "Beide datensätze haben sehr wenig gsm einträge (9%(dc) 5%(marvel)), mäßige anzahl an einträge bei der Augenfarbe (47%(dc) 40%(marvel)), und relativ gute mengen an Haarfarbe und id (~70%(dc) ~74%(marvel)). \n",
    "Moralische ausrichtung ist bei dc (91%) besser befüllt als bei marvel(81%). \n",
    "Allerdings ist der marvel datensatz ~2.3 mal größer.\n",
    "Von diesen spalten die unter 90% \"Füllrate\" haben intressieren uns zum beantworten der Leitfragen besonders folgende: aling, eye, und hair. Dise Spalten sind essenziell für die Letzen beiden Leitfragen. Bei beiden datensätzen sind ~34% dieser in einer Zeile vollständig, d.h. wir haben bei dc 2530 komplette aussehenseintärge und bei marvel 5529. Fast alle dieser Einträge haben auch ein Erstauftritt eintrag."
   ]
  },
  {
   "cell_type": "markdown",
   "id": "225d6cbc",
   "metadata": {},
   "source": [
    "#### Are there features in the datasets that require changes to be useful for a later analysis?"
   ]
  },
  {
   "cell_type": "markdown",
   "id": "c7a5dcaf",
   "metadata": {},
   "source": [
    "'first appearance'\n",
    "\n",
    "Da uns in unserer analyse die veränderung über die Zeit in zwei Fragen interessiert und diese in der spalte 'first appearance' als string mit dem Monat gespeichert ist, sollte diese spalte einfacher geacht werden. Entweder man gibt die Datum und monateinzeln als Zahlen aus oder man rechnet Jahreszal + Monat/12 als Float zusammen. Da wir an der allgemeinen Entwicklung über einen großen zeitraum hinweg interessiert sind, lohnt sich dieser mehraufwand nicht. Die Datensätz unterscheiden sich in der formatierung der 'first appearance' und müssen deswegen unterschidelich umgeformt werden.\n",
    "\n",
    "'name'\n",
    "\n",
    "'name' hat in beiden datensätzen zwei informationen enthalten. Zuerst der Heldenname(wenn vorhanden) und dann kommt der Richtige Name oder Spitzname wenn es einen Heldennamen gab. Diese spalte könte auch umgeformt werden. Dies Umformung halte ich jedoch für eine mit geringer priotitä, da wir keine der leitfragen damit unterstützen. "
   ]
  },
  {
   "cell_type": "markdown",
   "id": "9f0d767a-0051-4d64-9a4a-692a094e13d5",
   "metadata": {},
   "source": [
    "### Exercise 2: Handle missing values\n",
    "\n",
    "If you think this is necessary for the next steps in your analysis, use this part to remove (or impute/replace/edit) missing values."
   ]
  },
  {
   "cell_type": "code",
   "execution_count": null,
   "id": "ef3fd92c-912b-4f0b-ad6d-f7bad212d132",
   "metadata": {},
   "outputs": [],
   "source": []
  },
  {
   "cell_type": "markdown",
   "id": "6b7a5a06-29d3-43ee-91fa-be3dd84a21cb",
   "metadata": {},
   "source": [
    "## Exercise 3: Data conversions\n",
    "Several columns contain data in a non-ideal format or style.\n",
    "Apply the following changes:\n",
    "\n",
    "- `first appearance` --> convert to consistent date format\n",
    "- add column with only the year of appearance (call the new column: `year`)\n",
    "- Convert the `name` column into a better, more consistent format. Try to add a proper `superhero_name` and a `real_name` column. So: `\"batman (bruce wayne)\"` should be split into `\"batman\"` and `\"bruce wayne\"`. Don't worry if this won't work for all cases, you are not expected to do (and check) this manually. Simply try to find a good solution that works most of the time.\n",
    "\n",
    "### Hint:\n",
    "Sometimes there is no proper Pandas function to do what you need (or we simply are not sure or can't find the right one...).\n",
    "If you want to do a more complex operation on all entries in a column you can work with the `.apply()` method from Pandas. This fill any given Python function to all elements in a dataframe or column.\n",
    "\n",
    "```python\n",
    "def my_special_operation(input_entry):\n",
    "    # do what you want\n",
    "    return ouput_entry\n",
    "\n",
    "# Apply this to ALL entries\n",
    "my_dataframe.apply(my_special_operation)\n",
    "\n",
    "\n",
    "# Apply this to all entries in one column\n",
    "my_dataframe.loc[:, \"column_A\"].apply(my_special_operation)\n",
    "```"
   ]
  },
  {
   "cell_type": "code",
   "execution_count": null,
   "id": "509dfcd0",
   "metadata": {},
   "outputs": [],
   "source": []
  },
  {
   "cell_type": "markdown",
   "id": "8e853825-6cb3-4bf8-b6d0-86eb4a1e16ee",
   "metadata": {},
   "source": [
    "## Data analysis 1 \n",
    "Here you should address the two main questions posed at the beginning:\n",
    "1. How is the male-to-female ratio of superheros (marvel + DC) and how does it change over time?\n",
    "2. How does this compare between Marvel and DC superheros?\n",
    "\n",
    "### Exercise 4:\n",
    "- Please show the appearance of new superheros over time.\n",
    "- Compare the same for only \"male\" and \"female\" superheros. \n",
    "- Perform this analysis for `Marvel`, `DC` and both `Marvel_DC`.\n",
    "\n",
    "Hints: \n",
    "- For such a comparison it is often helpful to plot the **ratio** between the two (male:female or female:male).\n",
    "- When you are interested in trends over time, you are often free to decide how you handle the \"time\"-component. You can use data for every year, or combine several years etc.\n",
    "- Optional \"nice-to-have\": for noisy temporal data it sometimes helps (visually) to also use a **moving average** to smoothen curves."
   ]
  },
  {
   "cell_type": "code",
   "execution_count": null,
   "id": "f94e7871",
   "metadata": {},
   "outputs": [],
   "source": []
  },
  {
   "cell_type": "markdown",
   "id": "9042fbca-4c35-4399-952b-e25bfd58a9fb",
   "metadata": {},
   "source": [
    "## Data analysis 2 \n",
    "Here you should address the two main questions posed at the beginning:\n",
    "3. How does the look (hair color, eyes ...) change over time?\n",
    "4. Is there a typical look of a bad superhero and a good superhero?\n",
    "\n",
    "### Exercise 5:\n",
    "- Find suitable plots to show if/how superhero hair color and eye color changed over time.\n",
    "- Answer question no. 4 using visualization as well as a correlation analysis."
   ]
  },
  {
   "cell_type": "code",
   "execution_count": null,
   "id": "c96a864b",
   "metadata": {},
   "outputs": [],
   "source": []
  }
 ],
 "metadata": {
  "kernelspec": {
   "display_name": ".conda",
   "language": "python",
   "name": "python3"
  },
  "language_info": {
   "codemirror_mode": {
    "name": "ipython",
    "version": 3
   },
   "file_extension": ".py",
   "mimetype": "text/x-python",
   "name": "python",
   "nbconvert_exporter": "python",
   "pygments_lexer": "ipython3",
   "version": "3.10.16"
  }
 },
 "nbformat": 4,
 "nbformat_minor": 5
}
