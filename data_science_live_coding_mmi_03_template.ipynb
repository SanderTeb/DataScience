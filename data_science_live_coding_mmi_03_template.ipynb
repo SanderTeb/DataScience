{
 "cells": [
  {
   "cell_type": "markdown",
   "id": "506fffe3",
   "metadata": {},
   "source": [
    "# Einführung Data Science - Praktikum 04 - Chess\n"
   ]
  },
  {
   "cell_type": "markdown",
   "id": "b7114d63",
   "metadata": {},
   "source": [
    "## Library imports"
   ]
  },
  {
   "cell_type": "code",
   "execution_count": 1,
   "id": "bd0f2cc7",
   "metadata": {},
   "outputs": [],
   "source": [
    "import os\n",
    "\n",
    "import numpy as np # linear algebra\n",
    "import pandas as pd # data processing, CSV file I/O (e.g. pd.read_csv)\n",
    "import seaborn as sns # data visualization library  \n",
    "import matplotlib.pyplot as plt"
   ]
  },
  {
   "cell_type": "markdown",
   "id": "6a4e5164",
   "metadata": {},
   "source": [
    "## Loading data\n",
    "**Not so easy this time --> Parsing required!**\n",
    "\n",
    "The data comes from the Fédération Internationale des Échecs (FIDE, French for International Chess Federation): https://ratings.fide.com/download.phtml\n",
    "\n",
    "Here we want to work with the dataset “**Standard ratings**.” The homework assignment was to import this data (in the form of an XML file).\n",
    "This cannot be done directly with Pandas; the data must first be read in and converted into a Python dictionary (or a list). Information about the chess rating, the so-called ELO number: https://de.wikipedia.org/wiki/Elo-Zahl.\n",
    "\n",
    "When the file is opened in an editor, it looks like this:\n",
    "```\n",
    "<playerslist>\n",
    "<player>\n",
    "<fideid>25121731</fideid>\n",
    "<name>A C J John</name>\n",
    "<country>IND</country>\n",
    "<sex>M</sex>\n",
    "<title></title>\n",
    "<w_title></w_title>\n",
    "<o_title></o_title>\n",
    "<foa_title></foa_title>\n",
    "<rating>1063</rating>\n",
    "<games>0</games>\n",
    "<k>40</k>\n",
    "<birthday>1987</birthday>\n",
    "<flag>i</flag>\n",
    "</player>\n",
    "<player>\n",
    "<fideid>35077023</fideid>\n",
    "…\n",
    "```"
   ]
  },
  {
   "cell_type": "markdown",
   "id": "3d5936a6",
   "metadata": {},
   "source": [
    "## Writing parsers\n",
    "There are several ways to write a “parser” to read the files.\n",
    "\n",
    "XML files can also be imported in different ways. You can either (1) write a completely independent parser that reads and interprets the file line by line. However, this is quite time-consuming. Using existing Python libraries, such as `xml` or `xmltodict` is often easier.\n",
    "\n",
    "Other sources:\n",
    "\n",
    "- https://www.geeksforgeeks.org/xml-parsing-python/\n",
    "- https://www.w3schools.com/xml/xml_parser.asp\n",
    "- https://www.delftstack.com/de/howto/python/python-xml-parser/\n"
   ]
  },
  {
   "cell_type": "markdown",
   "id": "e3dd7e1e",
   "metadata": {},
   "source": [
    "## Option using `xmltodict`"
   ]
  },
  {
   "cell_type": "code",
   "execution_count": 2,
   "id": "fdb702e6",
   "metadata": {},
   "outputs": [],
   "source": [
    "import xmltodict\n",
    "\n",
    "# when in the subfolder datasets\n",
    "cwd = os.getcwd()\n",
    "dataset_path = \"\"\n",
    "file_xml = r\"C:\\Users\\Sander\\Repos\\DataScience\\standard_rating_list.xml\"\n",
    "\n",
    "file_path = os.path.join(cwd, dataset_path, file_xml)\n",
    "with open(file_path) as file:\n",
    "    doc = xmltodict.parse(file.read())"
   ]
  },
  {
   "cell_type": "markdown",
   "id": "1762dfdc",
   "metadata": {},
   "source": [
    "### Convert to Pandas DataFrame\n",
    "xmltodoc converts the content into a nested dictionary."
   ]
  },
  {
   "cell_type": "code",
   "execution_count": 3,
   "id": "c39bedec",
   "metadata": {},
   "outputs": [
    {
     "data": {
      "text/plain": [
       "list"
      ]
     },
     "execution_count": 3,
     "metadata": {},
     "output_type": "execute_result"
    }
   ],
   "source": [
    "type(doc[\"playerslist\"][\"player\"])"
   ]
  },
  {
   "cell_type": "code",
   "execution_count": 4,
   "id": "c2593d09",
   "metadata": {},
   "outputs": [
    {
     "data": {
      "text/plain": [
       "[{'fideid': '25121731',\n",
       "  'name': 'A C J John',\n",
       "  'country': 'IND',\n",
       "  'sex': 'M',\n",
       "  'title': None,\n",
       "  'w_title': None,\n",
       "  'o_title': None,\n",
       "  'foa_title': None,\n",
       "  'rating': '1063',\n",
       "  'games': '0',\n",
       "  'k': '40',\n",
       "  'birthday': '1987',\n",
       "  'flag': 'i'},\n",
       " {'fideid': '35077023',\n",
       "  'name': 'A Chakravarthy',\n",
       "  'country': 'IND',\n",
       "  'sex': 'M',\n",
       "  'title': None,\n",
       "  'w_title': None,\n",
       "  'o_title': None,\n",
       "  'foa_title': None,\n",
       "  'rating': '1151',\n",
       "  'games': '0',\n",
       "  'k': '40',\n",
       "  'birthday': '1986',\n",
       "  'flag': 'i'}]"
      ]
     },
     "execution_count": 4,
     "metadata": {},
     "output_type": "execute_result"
    }
   ],
   "source": [
    "doc[\"playerslist\"][\"player\"][:2]"
   ]
  },
  {
   "cell_type": "code",
   "execution_count": 5,
   "id": "1d9e65a9",
   "metadata": {},
   "outputs": [],
   "source": [
    "data = pd.DataFrame(doc[\"playerslist\"][\"player\"])"
   ]
  },
  {
   "cell_type": "markdown",
   "id": "e798de81",
   "metadata": {},
   "source": [
    "# (1) Exercise: Initial data exploration!\n",
    "Use Pandas to answer the following questions:\n",
    "\n",
    "- How many columns are there and what are they? --> `data.columns`\n",
    "- Are there any missing values? --> `.info()`\n",
    "- Initial overview and: Are there any unusual entries? --> `.describe()`\n"
   ]
  },
  {
   "cell_type": "code",
   "execution_count": 6,
   "id": "8490ca7c",
   "metadata": {},
   "outputs": [
    {
     "data": {
      "text/plain": [
       "Index(['fideid', 'name', 'country', 'sex', 'title', 'w_title', 'o_title',\n",
       "       'foa_title', 'rating', 'games', 'k', 'birthday', 'flag'],\n",
       "      dtype='object')"
      ]
     },
     "execution_count": 6,
     "metadata": {},
     "output_type": "execute_result"
    }
   ],
   "source": [
    "data.columns"
   ]
  },
  {
   "cell_type": "code",
   "execution_count": 7,
   "id": "b6bb2701",
   "metadata": {},
   "outputs": [
    {
     "name": "stdout",
     "output_type": "stream",
     "text": [
      "<class 'pandas.core.frame.DataFrame'>\n",
      "RangeIndex: 413948 entries, 0 to 413947\n",
      "Data columns (total 13 columns):\n",
      " #   Column     Non-Null Count   Dtype \n",
      "---  ------     --------------   ----- \n",
      " 0   fideid     413948 non-null  object\n",
      " 1   name       413948 non-null  object\n",
      " 2   country    413948 non-null  object\n",
      " 3   sex        413948 non-null  object\n",
      " 4   title      20539 non-null   object\n",
      " 5   w_title    4071 non-null    object\n",
      " 6   o_title    1582 non-null    object\n",
      " 7   foa_title  2709 non-null    object\n",
      " 8   rating     413948 non-null  object\n",
      " 9   games      413948 non-null  object\n",
      " 10  k          413948 non-null  object\n",
      " 11  birthday   405475 non-null  object\n",
      " 12  flag       269155 non-null  object\n",
      "dtypes: object(13)\n",
      "memory usage: 41.1+ MB\n"
     ]
    }
   ],
   "source": [
    "data.info()"
   ]
  },
  {
   "cell_type": "code",
   "execution_count": 8,
   "id": "4f41b57b",
   "metadata": {},
   "outputs": [
    {
     "data": {
      "text/html": [
       "<div>\n",
       "<style scoped>\n",
       "    .dataframe tbody tr th:only-of-type {\n",
       "        vertical-align: middle;\n",
       "    }\n",
       "\n",
       "    .dataframe tbody tr th {\n",
       "        vertical-align: top;\n",
       "    }\n",
       "\n",
       "    .dataframe thead th {\n",
       "        text-align: right;\n",
       "    }\n",
       "</style>\n",
       "<table border=\"1\" class=\"dataframe\">\n",
       "  <thead>\n",
       "    <tr style=\"text-align: right;\">\n",
       "      <th></th>\n",
       "      <th>fideid</th>\n",
       "      <th>name</th>\n",
       "      <th>country</th>\n",
       "      <th>sex</th>\n",
       "      <th>title</th>\n",
       "      <th>w_title</th>\n",
       "      <th>o_title</th>\n",
       "      <th>foa_title</th>\n",
       "      <th>rating</th>\n",
       "      <th>games</th>\n",
       "      <th>k</th>\n",
       "      <th>birthday</th>\n",
       "      <th>flag</th>\n",
       "    </tr>\n",
       "  </thead>\n",
       "  <tbody>\n",
       "    <tr>\n",
       "      <th>count</th>\n",
       "      <td>413948</td>\n",
       "      <td>413948</td>\n",
       "      <td>413948</td>\n",
       "      <td>413948</td>\n",
       "      <td>20539</td>\n",
       "      <td>4071</td>\n",
       "      <td>1582</td>\n",
       "      <td>2709</td>\n",
       "      <td>413948</td>\n",
       "      <td>413948</td>\n",
       "      <td>413948</td>\n",
       "      <td>405475</td>\n",
       "      <td>269155</td>\n",
       "    </tr>\n",
       "    <tr>\n",
       "      <th>unique</th>\n",
       "      <td>413948</td>\n",
       "      <td>407224</td>\n",
       "      <td>199</td>\n",
       "      <td>2</td>\n",
       "      <td>9</td>\n",
       "      <td>5</td>\n",
       "      <td>33</td>\n",
       "      <td>4</td>\n",
       "      <td>1707</td>\n",
       "      <td>31</td>\n",
       "      <td>4</td>\n",
       "      <td>100</td>\n",
       "      <td>3</td>\n",
       "    </tr>\n",
       "    <tr>\n",
       "      <th>top</th>\n",
       "      <td>25121731</td>\n",
       "      <td>Mueller, Michael</td>\n",
       "      <td>RUS</td>\n",
       "      <td>M</td>\n",
       "      <td>FM</td>\n",
       "      <td>WFM</td>\n",
       "      <td>FI</td>\n",
       "      <td>AFM</td>\n",
       "      <td>1695</td>\n",
       "      <td>0</td>\n",
       "      <td>40</td>\n",
       "      <td>2005</td>\n",
       "      <td>i</td>\n",
       "    </tr>\n",
       "    <tr>\n",
       "      <th>freq</th>\n",
       "      <td>1</td>\n",
       "      <td>10</td>\n",
       "      <td>38650</td>\n",
       "      <td>369678</td>\n",
       "      <td>8707</td>\n",
       "      <td>1876</td>\n",
       "      <td>426</td>\n",
       "      <td>932</td>\n",
       "      <td>447</td>\n",
       "      <td>352437</td>\n",
       "      <td>230319</td>\n",
       "      <td>13034</td>\n",
       "      <td>224885</td>\n",
       "    </tr>\n",
       "  </tbody>\n",
       "</table>\n",
       "</div>"
      ],
      "text/plain": [
       "          fideid              name country     sex  title w_title o_title  \\\n",
       "count     413948            413948  413948  413948  20539    4071    1582   \n",
       "unique    413948            407224     199       2      9       5      33   \n",
       "top     25121731  Mueller, Michael     RUS       M     FM     WFM      FI   \n",
       "freq           1                10   38650  369678   8707    1876     426   \n",
       "\n",
       "       foa_title  rating   games       k birthday    flag  \n",
       "count       2709  413948  413948  413948   405475  269155  \n",
       "unique         4    1707      31       4      100       3  \n",
       "top          AFM    1695       0      40     2005       i  \n",
       "freq         932     447  352437  230319    13034  224885  "
      ]
     },
     "execution_count": 8,
     "metadata": {},
     "output_type": "execute_result"
    }
   ],
   "source": [
    "data.describe()"
   ]
  },
  {
   "cell_type": "markdown",
   "id": "30844edc",
   "metadata": {},
   "source": [
    "# (2) Data cleaning\n",
    "\n",
    "The data can now be simplified somewhat for our purposes by retaining only the features/variables that are relevant to us.\n",
    "\n",
    "Clean the DataFrame by retaining only the columns “name,” “country,” “sex,” “rating,” and “birthday.”"
   ]
  },
  {
   "cell_type": "code",
   "execution_count": 9,
   "id": "abae1fcd",
   "metadata": {},
   "outputs": [],
   "source": [
    "keep_columns = [\"name\", \"country\", \"sex\", \"rating\", \"birthday\"]\n",
    "data = data[keep_columns]"
   ]
  },
  {
   "cell_type": "markdown",
   "id": "866e2f0f",
   "metadata": {},
   "source": [
    "Remove entries with missing values (using `.dropna()`)"
   ]
  },
  {
   "cell_type": "code",
   "execution_count": 10,
   "id": "610d9f07",
   "metadata": {},
   "outputs": [],
   "source": [
    "data = data.dropna()"
   ]
  },
  {
   "cell_type": "code",
   "execution_count": 11,
   "id": "3ad9131e",
   "metadata": {},
   "outputs": [
    {
     "data": {
      "text/html": [
       "<div>\n",
       "<style scoped>\n",
       "    .dataframe tbody tr th:only-of-type {\n",
       "        vertical-align: middle;\n",
       "    }\n",
       "\n",
       "    .dataframe tbody tr th {\n",
       "        vertical-align: top;\n",
       "    }\n",
       "\n",
       "    .dataframe thead th {\n",
       "        text-align: right;\n",
       "    }\n",
       "</style>\n",
       "<table border=\"1\" class=\"dataframe\">\n",
       "  <thead>\n",
       "    <tr style=\"text-align: right;\">\n",
       "      <th></th>\n",
       "      <th>name</th>\n",
       "      <th>country</th>\n",
       "      <th>sex</th>\n",
       "      <th>rating</th>\n",
       "      <th>birthday</th>\n",
       "    </tr>\n",
       "  </thead>\n",
       "  <tbody>\n",
       "    <tr>\n",
       "      <th>0</th>\n",
       "      <td>A C J John</td>\n",
       "      <td>IND</td>\n",
       "      <td>M</td>\n",
       "      <td>1063</td>\n",
       "      <td>1987</td>\n",
       "    </tr>\n",
       "    <tr>\n",
       "      <th>1</th>\n",
       "      <td>A Chakravarthy</td>\n",
       "      <td>IND</td>\n",
       "      <td>M</td>\n",
       "      <td>1151</td>\n",
       "      <td>1986</td>\n",
       "    </tr>\n",
       "    <tr>\n",
       "      <th>2</th>\n",
       "      <td>A E M, Doshtagir</td>\n",
       "      <td>BAN</td>\n",
       "      <td>M</td>\n",
       "      <td>1840</td>\n",
       "      <td>1974</td>\n",
       "    </tr>\n",
       "    <tr>\n",
       "      <th>3</th>\n",
       "      <td>A hamed Ashraf, Abdallah</td>\n",
       "      <td>EGY</td>\n",
       "      <td>M</td>\n",
       "      <td>1728</td>\n",
       "      <td>2001</td>\n",
       "    </tr>\n",
       "    <tr>\n",
       "      <th>4</th>\n",
       "      <td>A Hamid, Harman</td>\n",
       "      <td>MAS</td>\n",
       "      <td>M</td>\n",
       "      <td>1325</td>\n",
       "      <td>1970</td>\n",
       "    </tr>\n",
       "  </tbody>\n",
       "</table>\n",
       "</div>"
      ],
      "text/plain": [
       "                       name country sex rating birthday\n",
       "0                A C J John     IND   M   1063     1987\n",
       "1            A Chakravarthy     IND   M   1151     1986\n",
       "2          A E M, Doshtagir     BAN   M   1840     1974\n",
       "3  A hamed Ashraf, Abdallah     EGY   M   1728     2001\n",
       "4           A Hamid, Harman     MAS   M   1325     1970"
      ]
     },
     "execution_count": 11,
     "metadata": {},
     "output_type": "execute_result"
    }
   ],
   "source": [
    "data.head()"
   ]
  },
  {
   "cell_type": "markdown",
   "id": "a863ae97",
   "metadata": {},
   "source": [
    "Where necessary convert strings to numbers, e.g., using `data.xyz = data.xyz.astype(int)`."
   ]
  },
  {
   "cell_type": "code",
   "execution_count": 12,
   "id": "ea3b69f9",
   "metadata": {},
   "outputs": [],
   "source": [
    "data.rating = data.rating.astype(int)\n",
    "data.birthday = data.birthday.astype(int)"
   ]
  },
  {
   "cell_type": "markdown",
   "id": "d86f6324",
   "metadata": {},
   "source": [
    "Review the cleaned data again with `.head()`, `.info()`, and `.describe()`. **TIP**: To display all columns, it is best to execute `.describe(include=“all”)`!"
   ]
  },
  {
   "cell_type": "code",
   "execution_count": 13,
   "id": "ff01c882",
   "metadata": {},
   "outputs": [
    {
     "name": "stdout",
     "output_type": "stream",
     "text": [
      "<class 'pandas.core.frame.DataFrame'>\n",
      "Index: 405475 entries, 0 to 413947\n",
      "Data columns (total 5 columns):\n",
      " #   Column    Non-Null Count   Dtype \n",
      "---  ------    --------------   ----- \n",
      " 0   name      405475 non-null  object\n",
      " 1   country   405475 non-null  object\n",
      " 2   sex       405475 non-null  object\n",
      " 3   rating    405475 non-null  int64 \n",
      " 4   birthday  405475 non-null  int64 \n",
      "dtypes: int64(2), object(3)\n",
      "memory usage: 18.6+ MB\n"
     ]
    }
   ],
   "source": [
    "data.info()"
   ]
  },
  {
   "cell_type": "code",
   "execution_count": 14,
   "id": "06aa52c3",
   "metadata": {},
   "outputs": [
    {
     "data": {
      "text/html": [
       "<div>\n",
       "<style scoped>\n",
       "    .dataframe tbody tr th:only-of-type {\n",
       "        vertical-align: middle;\n",
       "    }\n",
       "\n",
       "    .dataframe tbody tr th {\n",
       "        vertical-align: top;\n",
       "    }\n",
       "\n",
       "    .dataframe thead th {\n",
       "        text-align: right;\n",
       "    }\n",
       "</style>\n",
       "<table border=\"1\" class=\"dataframe\">\n",
       "  <thead>\n",
       "    <tr style=\"text-align: right;\">\n",
       "      <th></th>\n",
       "      <th>name</th>\n",
       "      <th>country</th>\n",
       "      <th>sex</th>\n",
       "      <th>rating</th>\n",
       "      <th>birthday</th>\n",
       "    </tr>\n",
       "  </thead>\n",
       "  <tbody>\n",
       "    <tr>\n",
       "      <th>count</th>\n",
       "      <td>405475</td>\n",
       "      <td>405475</td>\n",
       "      <td>405475</td>\n",
       "      <td>405475.000000</td>\n",
       "      <td>405475.000000</td>\n",
       "    </tr>\n",
       "    <tr>\n",
       "      <th>unique</th>\n",
       "      <td>398887</td>\n",
       "      <td>198</td>\n",
       "      <td>2</td>\n",
       "      <td>NaN</td>\n",
       "      <td>NaN</td>\n",
       "    </tr>\n",
       "    <tr>\n",
       "      <th>top</th>\n",
       "      <td>Mueller, Michael</td>\n",
       "      <td>RUS</td>\n",
       "      <td>M</td>\n",
       "      <td>NaN</td>\n",
       "      <td>NaN</td>\n",
       "    </tr>\n",
       "    <tr>\n",
       "      <th>freq</th>\n",
       "      <td>10</td>\n",
       "      <td>38052</td>\n",
       "      <td>361832</td>\n",
       "      <td>NaN</td>\n",
       "      <td>NaN</td>\n",
       "    </tr>\n",
       "    <tr>\n",
       "      <th>mean</th>\n",
       "      <td>NaN</td>\n",
       "      <td>NaN</td>\n",
       "      <td>NaN</td>\n",
       "      <td>1618.937811</td>\n",
       "      <td>1984.557615</td>\n",
       "    </tr>\n",
       "    <tr>\n",
       "      <th>std</th>\n",
       "      <td>NaN</td>\n",
       "      <td>NaN</td>\n",
       "      <td>NaN</td>\n",
       "      <td>347.265922</td>\n",
       "      <td>20.228182</td>\n",
       "    </tr>\n",
       "    <tr>\n",
       "      <th>min</th>\n",
       "      <td>NaN</td>\n",
       "      <td>NaN</td>\n",
       "      <td>NaN</td>\n",
       "      <td>1001.000000</td>\n",
       "      <td>1900.000000</td>\n",
       "    </tr>\n",
       "    <tr>\n",
       "      <th>25%</th>\n",
       "      <td>NaN</td>\n",
       "      <td>NaN</td>\n",
       "      <td>NaN</td>\n",
       "      <td>1333.000000</td>\n",
       "      <td>1969.000000</td>\n",
       "    </tr>\n",
       "    <tr>\n",
       "      <th>50%</th>\n",
       "      <td>NaN</td>\n",
       "      <td>NaN</td>\n",
       "      <td>NaN</td>\n",
       "      <td>1611.000000</td>\n",
       "      <td>1989.000000</td>\n",
       "    </tr>\n",
       "    <tr>\n",
       "      <th>75%</th>\n",
       "      <td>NaN</td>\n",
       "      <td>NaN</td>\n",
       "      <td>NaN</td>\n",
       "      <td>1885.000000</td>\n",
       "      <td>2002.000000</td>\n",
       "    </tr>\n",
       "    <tr>\n",
       "      <th>max</th>\n",
       "      <td>NaN</td>\n",
       "      <td>NaN</td>\n",
       "      <td>NaN</td>\n",
       "      <td>2853.000000</td>\n",
       "      <td>2017.000000</td>\n",
       "    </tr>\n",
       "  </tbody>\n",
       "</table>\n",
       "</div>"
      ],
      "text/plain": [
       "                    name country     sex         rating       birthday\n",
       "count             405475  405475  405475  405475.000000  405475.000000\n",
       "unique            398887     198       2            NaN            NaN\n",
       "top     Mueller, Michael     RUS       M            NaN            NaN\n",
       "freq                  10   38052  361832            NaN            NaN\n",
       "mean                 NaN     NaN     NaN    1618.937811    1984.557615\n",
       "std                  NaN     NaN     NaN     347.265922      20.228182\n",
       "min                  NaN     NaN     NaN    1001.000000    1900.000000\n",
       "25%                  NaN     NaN     NaN    1333.000000    1969.000000\n",
       "50%                  NaN     NaN     NaN    1611.000000    1989.000000\n",
       "75%                  NaN     NaN     NaN    1885.000000    2002.000000\n",
       "max                  NaN     NaN     NaN    2853.000000    2017.000000"
      ]
     },
     "execution_count": 14,
     "metadata": {},
     "output_type": "execute_result"
    }
   ],
   "source": [
    "data.describe(include='all')"
   ]
  },
  {
   "cell_type": "code",
   "execution_count": 15,
   "id": "2e59c4e3",
   "metadata": {},
   "outputs": [],
   "source": [
    "# your code here"
   ]
  },
  {
   "cell_type": "markdown",
   "id": "d27515f0",
   "metadata": {},
   "source": [
    "How many different countries are included in the data set?"
   ]
  },
  {
   "cell_type": "code",
   "execution_count": 16,
   "id": "e8dfced0",
   "metadata": {},
   "outputs": [
    {
     "data": {
      "text/plain": [
       "country\n",
       "RUS    38052\n",
       "IND    36745\n",
       "ESP    29243\n",
       "GER    29151\n",
       "FRA    27903\n",
       "       ...  \n",
       "CAF        5\n",
       "VIN        4\n",
       "CHA        3\n",
       "COM        1\n",
       "SKN        1\n",
       "Name: count, Length: 198, dtype: int64"
      ]
     },
     "execution_count": 16,
     "metadata": {},
     "output_type": "execute_result"
    }
   ],
   "source": [
    "data.country.value_counts()"
   ]
  },
  {
   "cell_type": "markdown",
   "id": "6a493804",
   "metadata": {},
   "source": [
    "What is the range of values for `rating`?"
   ]
  },
  {
   "cell_type": "code",
   "execution_count": 17,
   "id": "8f4323a8",
   "metadata": {},
   "outputs": [
    {
     "data": {
      "text/plain": [
       "1852"
      ]
     },
     "execution_count": 17,
     "metadata": {},
     "output_type": "execute_result"
    }
   ],
   "source": [
    "data.rating.max()-data.rating.min()"
   ]
  },
  {
   "cell_type": "markdown",
   "id": "1e9896d0",
   "metadata": {},
   "source": [
    "How old is the oldest player?"
   ]
  },
  {
   "cell_type": "code",
   "execution_count": 18,
   "id": "2368cc8a",
   "metadata": {},
   "outputs": [
    {
     "data": {
      "text/html": [
       "<div>\n",
       "<style scoped>\n",
       "    .dataframe tbody tr th:only-of-type {\n",
       "        vertical-align: middle;\n",
       "    }\n",
       "\n",
       "    .dataframe tbody tr th {\n",
       "        vertical-align: top;\n",
       "    }\n",
       "\n",
       "    .dataframe thead th {\n",
       "        text-align: right;\n",
       "    }\n",
       "</style>\n",
       "<table border=\"1\" class=\"dataframe\">\n",
       "  <thead>\n",
       "    <tr style=\"text-align: right;\">\n",
       "      <th></th>\n",
       "      <th>name</th>\n",
       "      <th>country</th>\n",
       "      <th>sex</th>\n",
       "      <th>rating</th>\n",
       "      <th>birthday</th>\n",
       "    </tr>\n",
       "  </thead>\n",
       "  <tbody>\n",
       "    <tr>\n",
       "      <th>count</th>\n",
       "      <td>405475</td>\n",
       "      <td>405475</td>\n",
       "      <td>405475</td>\n",
       "      <td>405475.000000</td>\n",
       "      <td>405475.000000</td>\n",
       "    </tr>\n",
       "    <tr>\n",
       "      <th>unique</th>\n",
       "      <td>398887</td>\n",
       "      <td>198</td>\n",
       "      <td>2</td>\n",
       "      <td>NaN</td>\n",
       "      <td>NaN</td>\n",
       "    </tr>\n",
       "    <tr>\n",
       "      <th>top</th>\n",
       "      <td>Mueller, Michael</td>\n",
       "      <td>RUS</td>\n",
       "      <td>M</td>\n",
       "      <td>NaN</td>\n",
       "      <td>NaN</td>\n",
       "    </tr>\n",
       "    <tr>\n",
       "      <th>freq</th>\n",
       "      <td>10</td>\n",
       "      <td>38052</td>\n",
       "      <td>361832</td>\n",
       "      <td>NaN</td>\n",
       "      <td>NaN</td>\n",
       "    </tr>\n",
       "    <tr>\n",
       "      <th>mean</th>\n",
       "      <td>NaN</td>\n",
       "      <td>NaN</td>\n",
       "      <td>NaN</td>\n",
       "      <td>1618.937811</td>\n",
       "      <td>1984.557615</td>\n",
       "    </tr>\n",
       "    <tr>\n",
       "      <th>std</th>\n",
       "      <td>NaN</td>\n",
       "      <td>NaN</td>\n",
       "      <td>NaN</td>\n",
       "      <td>347.265922</td>\n",
       "      <td>20.228182</td>\n",
       "    </tr>\n",
       "    <tr>\n",
       "      <th>min</th>\n",
       "      <td>NaN</td>\n",
       "      <td>NaN</td>\n",
       "      <td>NaN</td>\n",
       "      <td>1001.000000</td>\n",
       "      <td>1900.000000</td>\n",
       "    </tr>\n",
       "    <tr>\n",
       "      <th>25%</th>\n",
       "      <td>NaN</td>\n",
       "      <td>NaN</td>\n",
       "      <td>NaN</td>\n",
       "      <td>1333.000000</td>\n",
       "      <td>1969.000000</td>\n",
       "    </tr>\n",
       "    <tr>\n",
       "      <th>50%</th>\n",
       "      <td>NaN</td>\n",
       "      <td>NaN</td>\n",
       "      <td>NaN</td>\n",
       "      <td>1611.000000</td>\n",
       "      <td>1989.000000</td>\n",
       "    </tr>\n",
       "    <tr>\n",
       "      <th>75%</th>\n",
       "      <td>NaN</td>\n",
       "      <td>NaN</td>\n",
       "      <td>NaN</td>\n",
       "      <td>1885.000000</td>\n",
       "      <td>2002.000000</td>\n",
       "    </tr>\n",
       "    <tr>\n",
       "      <th>max</th>\n",
       "      <td>NaN</td>\n",
       "      <td>NaN</td>\n",
       "      <td>NaN</td>\n",
       "      <td>2853.000000</td>\n",
       "      <td>2017.000000</td>\n",
       "    </tr>\n",
       "  </tbody>\n",
       "</table>\n",
       "</div>"
      ],
      "text/plain": [
       "                    name country     sex         rating       birthday\n",
       "count             405475  405475  405475  405475.000000  405475.000000\n",
       "unique            398887     198       2            NaN            NaN\n",
       "top     Mueller, Michael     RUS       M            NaN            NaN\n",
       "freq                  10   38052  361832            NaN            NaN\n",
       "mean                 NaN     NaN     NaN    1618.937811    1984.557615\n",
       "std                  NaN     NaN     NaN     347.265922      20.228182\n",
       "min                  NaN     NaN     NaN    1001.000000    1900.000000\n",
       "25%                  NaN     NaN     NaN    1333.000000    1969.000000\n",
       "50%                  NaN     NaN     NaN    1611.000000    1989.000000\n",
       "75%                  NaN     NaN     NaN    1885.000000    2002.000000\n",
       "max                  NaN     NaN     NaN    2853.000000    2017.000000"
      ]
     },
     "execution_count": 18,
     "metadata": {},
     "output_type": "execute_result"
    }
   ],
   "source": [
    "data.describe(include='all')"
   ]
  },
  {
   "cell_type": "markdown",
   "id": "7b3d769a",
   "metadata": {},
   "source": [
    "How old is the youngest player?"
   ]
  },
  {
   "cell_type": "code",
   "execution_count": 19,
   "id": "3c64540a",
   "metadata": {},
   "outputs": [],
   "source": [
    "# your code here"
   ]
  },
  {
   "cell_type": "markdown",
   "id": "0f1a6b21",
   "metadata": {},
   "source": [
    "---\n",
    "# (3) Analyses\n",
    "\n",
    "\n",
    "## Pandas review:\n",
    "\n",
    "### Viewing categorical variables\n",
    "With Pandas, we can quickly and easily see which categories occur how often using `.value_counts(“here_name_of_column”)`.\n",
    "\n",
    "### Graphical representation:\n",
    "With Pandas, we can often display results graphically very quickly, e.g. using `.plot(kind=“hist”)`. Here, we can choose from many types, such as `hist`, `pie`, `scatter`, `bar`, `barh`.\n",
    "\n",
    "### Sorting\n",
    "To sort the table by values, we use `.sort_values(“name_of_the_column”)`. This sorts the table according to the desired column, but in ascending order. For reverse sorting, we use `.sort_values(“name_of_the_column”, ascending=False)`.\n",
    "\n",
    "### Selecting data using a mask:\n",
    "We can select part of the data with a mask, according to the pattern\n",
    "\n",
    "```python\n",
    "mask = (data[column_name_here] == ... ) # <, >, ==, >=,...\n",
    "data[mask]\n",
    "```\n",
    "\n",
    "Multiple masks can be applied, for example\n",
    "\n",
    "```python\n",
    "mask1 = (data[column_name_here] == ... ) # <, >, ==, >=,...\n",
    "mask2 = (data[column_name_here] > ... ) \n",
    "data[mask1 & mask2]\n",
    "```"
   ]
  },
  {
   "cell_type": "markdown",
   "id": "a74d4386",
   "metadata": {},
   "source": [
    "## (3.1) Analyzing gender gap and best players\n",
    "\n",
    "How many male and female players are included in the data set?"
   ]
  },
  {
   "cell_type": "code",
   "execution_count": 31,
   "id": "136d058e",
   "metadata": {},
   "outputs": [
    {
     "data": {
      "image/png": "[encoded data removed]",
      "text/plain": [
       "<Figure size 640x480 with 1 Axes>"
      ]
     },
     "metadata": {},
     "output_type": "display_data"
    }
   ],
   "source": [
    "female_mask = (data['sex'] == 'F')\n",
    "data.sex.hist()\n",
    "data[female_mask].value_counts('sex')\n",
    "f_vs_m = data.value_counts('sex')"
   ]
  },
  {
   "cell_type": "markdown",
   "id": "5d66a33b",
   "metadata": {},
   "source": [
    "---\n",
    "What is the percentage distribution (male vs. female)?"
   ]
  },
  {
   "cell_type": "code",
   "execution_count": 32,
   "id": "3d9f175a",
   "metadata": {},
   "outputs": [
    {
     "data": {
      "text/plain": [
       "'Anteil Frauen: 10.76 %.'"
      ]
     },
     "execution_count": 32,
     "metadata": {},
     "output_type": "execute_result"
    }
   ],
   "source": [
    "f_vs_m = f_vs_m\n",
    "ratio = f_vs_m.F/f_vs_m.sum()\n",
    "f\"Anteil Frauen: {(ratio*100):.2f} %.\""
   ]
  },
  {
   "cell_type": "markdown",
   "id": "4faa660f",
   "metadata": {},
   "source": [
    "---\n",
    "Create a pie plot for this distribution."
   ]
  },
  {
   "cell_type": "code",
   "execution_count": 23,
   "id": "ab7a43bd",
   "metadata": {},
   "outputs": [
    {
     "data": {
      "text/plain": [
       "<Axes: ylabel='count'>"
      ]
     },
     "execution_count": 23,
     "metadata": {},
     "output_type": "execute_result"
    },
    {
     "data": {
      "image/png": "[encoded data removed]",
      "text/plain": [
       "<Figure size 640x480 with 1 Axes>"
      ]
     },
     "metadata": {},
     "output_type": "display_data"
    }
   ],
   "source": [
    "f_vs_m.plot.pie()"
   ]
  },
  {
   "cell_type": "markdown",
   "id": "f483cc6e",
   "metadata": {},
   "source": [
    "---\n",
    "How are the birth years distributed among men and women? Are there significant differences or not?\n",
    "\n",
    "Create a histogram for women and one for men."
   ]
  },
  {
   "cell_type": "code",
   "execution_count": 24,
   "id": "d8f7e55c",
   "metadata": {},
   "outputs": [
    {
     "data": {
      "text/plain": [
       "<Axes: ylabel='Frequency'>"
      ]
     },
     "execution_count": 24,
     "metadata": {},
     "output_type": "execute_result"
    },
    {
     "data": {
      "image/png": "[encoded data removed]",
      "text/plain": [
       "<Figure size 640x480 with 1 Axes>"
      ]
     },
     "metadata": {},
     "output_type": "display_data"
    }
   ],
   "source": [
    "mask_f = 0# your code here\n",
    "data[female_mask][\"birthday\"].plot(kind=\"hist\", bins=30, rwidth=0.8)"
   ]
  },
  {
   "cell_type": "code",
   "execution_count": 25,
   "id": "489251c0",
   "metadata": {
    "scrolled": true
   },
   "outputs": [
    {
     "data": {
      "text/plain": [
       "<Axes: ylabel='Frequency'>"
      ]
     },
     "execution_count": 25,
     "metadata": {},
     "output_type": "execute_result"
    },
    {
     "data": {
      "image/png": "[encoded data removed]",
      "text/plain": [
       "<Figure size 640x480 with 1 Axes>"
      ]
     },
     "metadata": {},
     "output_type": "display_data"
    }
   ],
   "source": [
    "mask_m = (data['sex'] == 'M')\n",
    "data[mask_m][\"birthday\"].plot(kind=\"hist\", bins=30, rwidth=0.8)"
   ]
  },
  {
   "cell_type": "markdown",
   "id": "9ad0fd29",
   "metadata": {},
   "source": [
    "Improve comparability: Standardize to value 1 and overlap with transparency."
   ]
  },
  {
   "cell_type": "code",
   "execution_count": 26,
   "id": "f0ff9e39",
   "metadata": {
    "scrolled": true
   },
   "outputs": [
    {
     "data": {
      "text/plain": [
       "Text(0, 0.5, 'Proportion')"
      ]
     },
     "execution_count": 26,
     "metadata": {},
     "output_type": "execute_result"
    },
    {
     "data": {
      "image/png": "[encoded data removed]",
      "text/plain": [
       "<Figure size 640x480 with 1 Axes>"
      ]
     },
     "metadata": {},
     "output_type": "display_data"
    }
   ],
   "source": [
    "# Create masks for each gender\n",
    "mask_f = female_mask\n",
    "mask_m = mask_m\n",
    "\n",
    "# Calculate weights for each gender\n",
    "male_weights = np.ones_like(data[mask_m]['birthday']) / len(data[mask_m]['birthday'])\n",
    "female_weights = np.ones_like(data[mask_f]['birthday']) / len(data[mask_f]['birthday'])\n",
    "\n",
    "# Plot the histograms\n",
    "ax = data[mask_m]['birthday'].plot(kind='hist', bins=30, rwidth=0.8, alpha=0.5, label='Male', weights=male_weights)\n",
    "data[mask_f]['birthday'].plot(kind='hist', bins=30, rwidth=0.8, alpha=0.5, label='Female', ax=ax, weights=female_weights)\n",
    "\n",
    "# Customize the plot\n",
    "ax.legend()\n",
    "ax.set_xlabel('Birthday')\n",
    "ax.set_ylabel('Proportion')"
   ]
  },
  {
   "cell_type": "markdown",
   "id": "5ba6d5bd",
   "metadata": {},
   "source": [
    "Take another look at the percentage distribution of female vs. male. This time, however, only for people born after 1999."
   ]
  },
  {
   "cell_type": "code",
   "execution_count": 30,
   "id": "3b90f39c",
   "metadata": {},
   "outputs": [
    {
     "data": {
      "text/plain": [
       "0"
      ]
     },
     "execution_count": 30,
     "metadata": {},
     "output_type": "execute_result"
    }
   ],
   "source": [
    "f_vs_m"
   ]
  },
  {
   "cell_type": "code",
   "execution_count": 35,
   "id": "a95bcfbd",
   "metadata": {},
   "outputs": [
    {
     "data": {
      "text/plain": [
       "'Anteil Frauen: 18.60 %.'"
      ]
     },
     "execution_count": 35,
     "metadata": {},
     "output_type": "execute_result"
    }
   ],
   "source": [
    "mask_birthday_2000 = (data.birthday > 1999)\n",
    "f_vs_m = data[mask_birthday_2000].value_counts('sex')\n",
    "\n",
    "ratio = f_vs_m.F/f_vs_m.sum()\n",
    "f\"Anteil Frauen: {(ratio*100):.2f} %.\""
   ]
  },
  {
   "cell_type": "markdown",
   "id": "a515f009",
   "metadata": {},
   "source": [
    "Who are the 10, 20, 50, or 100 best players?"
   ]
  },
  {
   "cell_type": "code",
   "execution_count": 42,
   "id": "b7828175",
   "metadata": {},
   "outputs": [],
   "source": [
    "data_rating_sored = data[['name','sex','rating']].sort_values('rating',ascending=False)"
   ]
  },
  {
   "cell_type": "code",
   "execution_count": 45,
   "id": "ce61ec5a",
   "metadata": {},
   "outputs": [],
   "source": [
    "top_100 = data_rating_sored.head(100)"
   ]
  },
  {
   "cell_type": "markdown",
   "id": "589d8e15",
   "metadata": {},
   "source": [
    "What is the male-to-female ratio in the top 100?"
   ]
  },
  {
   "cell_type": "code",
   "execution_count": 47,
   "id": "7e2b2a5e",
   "metadata": {},
   "outputs": [
    {
     "data": {
      "text/plain": [
       "'Anteil Frauen: 1.00 %.'"
      ]
     },
     "execution_count": 47,
     "metadata": {},
     "output_type": "execute_result"
    }
   ],
   "source": [
    "f_vs_m = top_100.value_counts('sex')# your code here\n",
    "ratio = f_vs_m.F/f_vs_m.sum()\n",
    "f\"Anteil Frauen: {(ratio*100):.2f} %.\""
   ]
  },
  {
   "cell_type": "markdown",
   "id": "04dee081",
   "metadata": {},
   "source": [
    "## (3.2) Analyzing ELO distributions\n",
    "\n",
    "- Repeat the task, but this time add another selection filter to restrict the birth years. Try, for example, `< 2002` or `< 1992`.\n",
    "\n",
    "Display the distributions of the ELO ratings for three cases: (1) All players, (2) male players, (3) female players."
   ]
  },
  {
   "cell_type": "markdown",
   "id": "e60f8741",
   "metadata": {},
   "source": [
    "(1) All players"
   ]
  },
  {
   "cell_type": "code",
   "execution_count": 51,
   "id": "6514a3c8",
   "metadata": {},
   "outputs": [
    {
     "data": {
      "text/plain": [
       "array([[<Axes: title={'center': 'rating'}>]], dtype=object)"
      ]
     },
     "execution_count": 51,
     "metadata": {},
     "output_type": "execute_result"
    },
    {
     "data": {
      "image/png": "[encoded data removed]",
      "text/plain": [
       "<Figure size 640x480 with 1 Axes>"
      ]
     },
     "metadata": {},
     "output_type": "display_data"
    }
   ],
   "source": [
    "bd_mask = (data.birthday > 1992)\n",
    "data[bd_mask].hist('rating',bins=50)"
   ]
  },
  {
   "cell_type": "markdown",
   "id": "d4b5c698",
   "metadata": {},
   "source": [
    "(2) male and (3) female players."
   ]
  },
  {
   "cell_type": "code",
   "execution_count": 52,
   "id": "921e8487",
   "metadata": {},
   "outputs": [
    {
     "data": {
      "text/plain": [
       "<Axes: ylabel='Frequency'>"
      ]
     },
     "execution_count": 52,
     "metadata": {},
     "output_type": "execute_result"
    },
    {
     "data": {
      "image/png": "[encoded data removed]",
      "text/plain": [
       "<Figure size 1000x800 with 2 Axes>"
      ]
     },
     "metadata": {},
     "output_type": "display_data"
    }
   ],
   "source": [
    "mask_f = (data['sex'] == 'F')# your code her\n",
    "mask_m = (data['sex'] == 'M')# your code here\n",
    "mask_birthday = (data.birthday > 1992)# your code here\n",
    "\n",
    "fig, (ax1, ax2) = plt.subplots(2, 1, figsize=(10,8))\n",
    "data[mask_m & mask_birthday][\"rating\"].plot(kind=\"hist\", bins=40, rwidth=0.8,\n",
    "                                    ax=ax1)\n",
    "data[mask_f & mask_birthday][\"rating\"].plot(kind=\"hist\", bins=40, rwidth=0.8,\n",
    "                                    ax=ax2)"
   ]
  },
  {
   "cell_type": "markdown",
   "id": "d13a4b32",
   "metadata": {},
   "source": [
    "Normalize again and overlap:"
   ]
  },
  {
   "cell_type": "code",
   "execution_count": 53,
   "id": "3913b623",
   "metadata": {},
   "outputs": [
    {
     "data": {
      "text/plain": [
       "<matplotlib.legend.Legend at 0x21488e0d330>"
      ]
     },
     "execution_count": 53,
     "metadata": {},
     "output_type": "execute_result"
    },
    {
     "data": {
      "image/png": "[encoded data removed]",
      "text/plain": [
       "<Figure size 640x480 with 1 Axes>"
      ]
     },
     "metadata": {},
     "output_type": "display_data"
    }
   ],
   "source": [
    "mask_birthday = data[\"birthday\"] < 2002\n",
    "data_m = data[mask_m & mask_birthday]\n",
    "data_f = data[mask_f & mask_birthday]\n",
    "\n",
    "\n",
    "bins = 30\n",
    "\n",
    "weights_m = np.ones_like(data_m[\"rating\"]) / len(data_m)\n",
    "weights_f = np.ones_like(data_f[\"rating\"]) / len(data_f)\n",
    "\n",
    "plt.hist(data_m[\"rating\"], bins=bins, rwidth=0.8, alpha=0.5, label='Male', weights=weights_m)\n",
    "plt.hist(data_f[\"rating\"], bins=bins, rwidth=0.8, alpha=0.5, label='Female', weights=weights_f)\n",
    "\n",
    "plt.xlabel('Rating')\n",
    "plt.ylabel('Frequency')\n",
    "plt.title('Rating distribution')\n",
    "plt.legend(loc='upper right')"
   ]
  },
  {
   "cell_type": "markdown",
   "id": "d230d12e",
   "metadata": {},
   "source": [
    "## Which country to examine?\n",
    "We can see which countries have many female players registered by prefiltering the data (only women) and then counting the countries with `.value_counts(“country”)`. For an overview, we then look at the first five countries with the highest number of female players."
   ]
  },
  {
   "cell_type": "code",
   "execution_count": 55,
   "id": "e08a91e7",
   "metadata": {},
   "outputs": [
    {
     "data": {
      "text/plain": [
       "country\n",
       "RUS    6376\n",
       "IND    4147\n",
       "FRA    2424\n",
       "GER    2011\n",
       "POL    1769\n",
       "Name: count, dtype: int64"
      ]
     },
     "execution_count": 55,
     "metadata": {},
     "output_type": "execute_result"
    }
   ],
   "source": [
    "mask_f = (data.sex == 'F')\n",
    "data_female_per_country = data[mask_f].value_counts('country')# your code here\n",
    "data_female_per_country= data_female_per_country.sort_values(ascending=False)\n",
    "data_female_per_country = data_female_per_country.head()"
   ]
  },
  {
   "cell_type": "markdown",
   "id": "a1ba802d",
   "metadata": {},
   "source": [
    "For a better picture, see also for men."
   ]
  },
  {
   "cell_type": "code",
   "execution_count": null,
   "id": "55649217",
   "metadata": {},
   "outputs": [],
   "source": [
    "mask_m = # your code here\n",
    "data_male_per_country = # your code here\n",
    "# sort\n",
    "# your code here"
   ]
  },
  {
   "cell_type": "markdown",
   "id": "5c9121f3",
   "metadata": {},
   "source": [
    "Now let's look at countries with a representative number of women. We filter further and look at which countries have at least 500 female players registered."
   ]
  },
  {
   "cell_type": "code",
   "execution_count": null,
   "id": "89639d55",
   "metadata": {
    "scrolled": true
   },
   "outputs": [],
   "source": [
    "mask_f_count_500 = # your code here\n",
    "# output filtered data\n",
    "# your code here"
   ]
  },
  {
   "cell_type": "markdown",
   "id": "91a796c2",
   "metadata": {},
   "source": [
    "However, it is not only a minimum number that is decisive. We are also looking for as balanced a ratio of women to men as possible. We create a list of all countries by outputting the index from `data_female_per_country`:"
   ]
  },
  {
   "cell_type": "code",
   "execution_count": null,
   "id": "f4aa99e8",
   "metadata": {
    "scrolled": true
   },
   "outputs": [],
   "source": [
    "countries_with_500_females = data_female_per_country[mask_f_count_500].index\n",
    "countries_with_500_females"
   ]
  },
  {
   "cell_type": "markdown",
   "id": "9670e723",
   "metadata": {},
   "source": [
    "Instead of using a mask, we can also use the `.isin()` method, to which we can pass our country list `countries_with_500_females`. We can now apply this to `data_male`."
   ]
  },
  {
   "cell_type": "code",
   "execution_count": null,
   "id": "3a791b94",
   "metadata": {
    "scrolled": true
   },
   "outputs": [],
   "source": [
    "data_male = data[mask_m]\n",
    "\n",
    "mask_filtered_data_m = # your code here\n",
    "filtered_data_m = # your code here\n",
    "data_male_per_country = # your code here"
   ]
  },
  {
   "cell_type": "code",
   "execution_count": null,
   "id": "5a912ebc",
   "metadata": {},
   "outputs": [],
   "source": [
    "print(data_male_per_country)"
   ]
  },
  {
   "cell_type": "code",
   "execution_count": null,
   "id": "0fa46021",
   "metadata": {},
   "outputs": [],
   "source": [
    "print(data_female_per_country)"
   ]
  },
  {
   "cell_type": "markdown",
   "id": "098cffeb",
   "metadata": {},
   "source": [
    "If you want to read the index and values from a Pandas `Series` object, you can use the `.iteritems()` method. For demonstration purposes, we use this in a for loop to better illustrate (in the console) the data filtered so far. Sprucing things up with f-strings and a “homemade” table:"
   ]
  },
  {
   "cell_type": "code",
   "execution_count": null,
   "id": "2801d537",
   "metadata": {},
   "outputs": [],
   "source": [
    "print(f\"{'Country':^10}|{'Male':^10}|{'Female':^10}\")\n",
    "print(\"-\" * 32)\n",
    "\n",
    "for idx, value in data_male_per_country.items():\n",
    "    female_value = data_female_per_country.loc[idx]\n",
    "    print(f\"{idx:^10}|{value:^10}|{female_value:^10}\")"
   ]
  },
  {
   "cell_type": "markdown",
   "id": "06e522d0",
   "metadata": {},
   "source": [
    "Now we calculate the percentage of women per country."
   ]
  },
  {
   "cell_type": "code",
   "execution_count": null,
   "id": "ff9f0e87",
   "metadata": {},
   "outputs": [],
   "source": [
    "ratios = # your code here\n",
    "print(ratios.sort_values(ascending=False))"
   ]
  },
  {
   "cell_type": "markdown",
   "id": "29767764",
   "metadata": {},
   "source": [
    "We add the ratios from the table."
   ]
  },
  {
   "cell_type": "code",
   "execution_count": null,
   "id": "57249940",
   "metadata": {},
   "outputs": [],
   "source": [
    "print(f\"{'Country':^10}|{'Male':^10}|{'Female':^10}|{'Ratio':^10}\")\n",
    "print(\"-\" * 43)\n",
    "\n",
    "for idx, value in data_male_per_country.items():\n",
    "    female_value = data_female_per_country.loc[idx]\n",
    "    ratio = f\"{ratios.loc[idx] * 100:.2f} %\"\n",
    "    print(f\"{idx:^10}|{value:^10}|{female_value:^10}|{ratio:^10}\")"
   ]
  },
  {
   "cell_type": "markdown",
   "id": "398f43b2",
   "metadata": {},
   "source": [
    "Let's look at ELO rating distributions for women in countries that are potentially “good to study” according to the criteria “as many people as possible and as balanced a ratio as possible.”\n",
    "\n",
    "To do this, we will again look at two overlapping bar plots with normalized ELO ratings."
   ]
  },
  {
   "cell_type": "code",
   "execution_count": null,
   "id": "57066286",
   "metadata": {},
   "outputs": [],
   "source": [
    "mask_birthday = # your code here\n",
    "mask_country = # your code here\n",
    "data_m = # your code here\n",
    "data_f = # your code here\n",
    "\n",
    "weights_m = np.ones_like(data_m[\"rating\"]) / len(data_m)\n",
    "weights_f = np.ones_like(data_f[\"rating\"]) / len(data_f)\n",
    "\n",
    "bins = 30\n",
    "\n",
    "data_m[\"rating\"].plot(kind=\"hist\", bins=bins, rwidth=0.8, alpha=0.5, label='Male', weights=weights_m, legend=True)\n",
    "data_f[\"rating\"].plot(kind=\"hist\", bins=bins, rwidth=0.8, alpha=0.5, label='Female', weights=weights_f, legend=True)\n",
    "\n",
    "plt.xlabel('Rating')\n",
    "plt.ylabel('Frequency')\n",
    "plt.title('Rating distribution')\n",
    "plt.legend(loc='upper right')"
   ]
  },
  {
   "cell_type": "markdown",
   "id": "ae41fe42",
   "metadata": {},
   "source": [
    "### EXAMPLE - Alternative plot option for men/women from India (born before 2002)"
   ]
  },
  {
   "cell_type": "code",
   "execution_count": null,
   "id": "c95df2bc",
   "metadata": {},
   "outputs": [],
   "source": [
    "mask_year = data[\"birthday\"] < 2002\n",
    "mask_country = data[\"country\"] == \"IND\"\n",
    "\n",
    "\n",
    "a, b = np.histogram(data[mask_f & mask_year & mask_country][\"rating\"], bins= 50)\n",
    "c, d = np.histogram(data[mask_m & mask_year & mask_country][\"rating\"], bins= 50)\n",
    "\n",
    "fig, ax = plt.subplots(figsize=(10, 6))\n",
    "delta_bin_F = b[1] - b[0]\n",
    "delta_bin_M = d[1] - d[0]\n",
    "\n",
    "ax.plot(b[1:] - delta_bin_F/2, a/np.sum(a), \".--\", label=\"Women\")\n",
    "ax.plot(d[1:] - delta_bin_M/2, c/np.sum(c), \".--\", label=\"Men\")\n",
    "\n",
    "ax.set_xlabel(\"ELO rating\")\n",
    "ax.set_ylabel(\"Fraction\")\n",
    "plt.legend()\n",
    "plt.title(\"Compare chess players form India, born before 2000\")"
   ]
  }
 ],
 "metadata": {
  "kernelspec": {
   "display_name": "Python 3",
   "language": "python",
   "name": "python3"
  },
  "language_info": {
   "codemirror_mode": {
    "name": "ipython",
    "version": 3
   },
   "file_extension": ".py",
   "mimetype": "text/x-python",
   "name": "python",
   "nbconvert_exporter": "python",
   "pygments_lexer": "ipython3",
   "version": "3.10.16"
  }
 },
 "nbformat": 4,
 "nbformat_minor": 5
}
